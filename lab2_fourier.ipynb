{
  "nbformat": 4,
  "nbformat_minor": 0,
  "metadata": {
    "colab": {
      "name": "lab2_fourier.ipynb",
      "provenance": [],
      "collapsed_sections": []
    },
    "kernelspec": {
      "name": "python3",
      "display_name": "Python 3"
    },
    "language_info": {
      "name": "python"
    }
  },
  "cells": [
    {
      "cell_type": "code",
      "execution_count": 8,
      "metadata": {
        "colab": {
          "base_uri": "https://localhost:8080/",
          "height": 369
        },
        "id": "UegcF4B0-AOx",
        "outputId": "ad856f9a-3077-4c82-eecc-5cc9f1b933a2"
      },
      "outputs": [
        {
          "output_type": "stream",
          "name": "stdout",
          "text": [
            "zadanie A\n",
            "a0= 0.3733333333333334\n",
            "a1= -0.45391890271767316\n",
            "a2= 0.11347972567941828\n"
          ]
        },
        {
          "output_type": "display_data",
          "data": {
            "image/png": "[encoded data removed]",
            "text/plain": [
              "<Figure size 432x288 with 1 Axes>"
            ]
          },
          "metadata": {
            "needs_background": "light"
          }
        },
        {
          "output_type": "stream",
          "name": "stdout",
          "text": [
            "zadanie B\n",
            "{a: 1.09948669947669, c: 0.00683776684110188, b: 0.0}\n"
          ]
        }
      ],
      "source": [
        "from sympy import *\n",
        "import numpy as np\n",
        "import matplotlib.pyplot as plt\n",
        "from scipy.integrate import quad\n",
        "\n",
        "parametr = 1.120\n",
        "T=2\n",
        "w=np.pi\n",
        "\n",
        "#A\n",
        "print(\"zadanie A\")\n",
        "\n",
        "def f(t):\n",
        "  return parametr*t**2\n",
        "\n",
        "def fa1(t):\n",
        "  return f(t)*np.cos(w*t)\n",
        "\n",
        "def fa2(t):\n",
        "  return f(t)*np.cos(2*w*t)\n",
        "\n",
        "a0=1/T*quad(f, -1, 1)[0]\n",
        "a1=2/T*quad(fa1, -1, 1)[0]\n",
        "a2=2/T*quad(fa2, -1, 1)[0]\n",
        "\n",
        "\n",
        "print(\"a0=\",a0)\n",
        "print('a1=',a1)\n",
        "print('a2=',a2)\n",
        "\n",
        "def F(t):\n",
        "  return a0+a1*np.cos(np.pi*t)+a2*np.cos(2*np.pi*t)\n",
        "\n",
        "t=np.linspace(-1, 1, 100)\n",
        "fig, ax=plt.subplots()\n",
        "ax.plot(t,f(t),t,F(t))\n",
        "ax.grid(True)\n",
        "plt.show()\n",
        "\n",
        "#B\n",
        "print(\"zadanie B\")\n",
        "\n",
        "a, b, c, t = symbols('a b c t')\n",
        "A,B,C=a0, a1, a2\n",
        "\n",
        "expr = (a*t**2+2*b*t+c -(A+B*cos(w*t)+C*cos(2*w*t)))*t**2\n",
        "sol1 = integrate(expr, (t, -1, 1))\n",
        "expr = (a*t**2+2*b*t+c -(A+B*cos(w*t)+C*cos(2*w*t))) * t\n",
        "sol2 = integrate(expr, (t, -1, 1))\n",
        "expr = (a*t**2+2*b*t+c -(A+B*cos(w*t)+C*cos(2*w*t)))\n",
        "sol3 = integrate(expr, (t,-1,1))\n",
        "\n",
        "equations = [\n",
        "  Eq(sol1,  0 ),\n",
        "  Eq(sol2, 0 ),\n",
        "  Eq(sol3,0)\n",
        "]\n",
        "print(solve(equations))\n",
        "\n"
      ]
    }
  ]
}